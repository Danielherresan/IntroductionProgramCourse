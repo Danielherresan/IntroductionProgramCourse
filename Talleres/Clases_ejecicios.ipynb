{
  "nbformat": 4,
  "nbformat_minor": 0,
  "metadata": {
    "colab": {
      "name": "Clases ejecicios.ipynb",
      "provenance": [],
      "collapsed_sections": []
    },
    "kernelspec": {
      "name": "python3",
      "display_name": "Python 3"
    }
  },
  "cells": [
    {
      "cell_type": "markdown",
      "metadata": {
        "id": "5CSsrrPXgksZ"
      },
      "source": [
        "**Clases y objetos**\n"
      ]
    },
    {
      "cell_type": "markdown",
      "metadata": {
        "id": "FCBQ0MR2grGf"
      },
      "source": [
        "1.\tCree la clase Torta con atributos forma, sabor, altura, también tendrá una función donde muestre todos sus atributos."
      ]
    },
    {
      "cell_type": "code",
      "metadata": {
        "id": "DgVRow1egqPj",
        "outputId": "de9e50a4-bde1-4937-88b1-3f5c911416b8",
        "colab": {
          "base_uri": "https://localhost:8080/",
          "height": 34
        }
      },
      "source": [
        "class Torta ():\n",
        "  def __init__ (self,formaIn, saborIn,alturaIn):\n",
        "    self.forma = formaIn\n",
        "    self.sabor = saborIn\n",
        "    self.altura = alturaIn\n",
        "  def mostrar_atributos(self):\n",
        "    print (f'Es una torta de forma {self.forma} , de sabor {self.sabor}  y de una altura {self.altura}cm')\n",
        "\n",
        "cake = Torta ('redonda', 'chocolate',20)\n",
        "cake.mostrar_atributos()"
      ],
      "execution_count": 1,
      "outputs": [
        {
          "output_type": "stream",
          "text": [
            "Es una torta de forma redonda , de sabor chocolate  y de una altura 20cm\n"
          ],
          "name": "stdout"
        }
      ]
    },
    {
      "cell_type": "markdown",
      "metadata": {
        "id": "HBz2clBThtch"
      },
      "source": [
        "2.\tCree una clase Estudiante donde tenga de atributos edad, nombre, id, carrera, semestre. También este estudiante tendrá una función donde dada una materia y una cantidad de tiempo muestra en pantalla que estudiará dicha materia en esa cantidad de tiempo"
      ]
    },
    {
      "cell_type": "code",
      "metadata": {
        "id": "EyYktCCLhv3G",
        "outputId": "6c2882ea-5df4-4d44-874d-2469075c7e7c",
        "colab": {
          "base_uri": "https://localhost:8080/",
          "height": 34
        }
      },
      "source": [
        "class Estudiante():\n",
        "    #Creación\n",
        "    def __init__ (self, nombreIn, edadIn,idIn, carreraIn, semestreIn):\n",
        "        self.nombre = nombreIn\n",
        "        self.edad = edadIn\n",
        "        self.id = idIn\n",
        "        self.carrera = carreraIn\n",
        "        self.semestre = semestreIn\n",
        "    #Acciones\n",
        "    #Estudiar\n",
        "    def estudiar_materia (self, materia,tiempo) :\n",
        "        print (f'Hola soy {self.nombre} y tengo que estudiar : {materia}  por {tiempo} horas')\n",
        "\n",
        "estudent = Estudiante('pepe', 23, 123789, 'Sistemas', 4)\n",
        "estudent.estudiar_materia('física',12)\n"
      ],
      "execution_count": 4,
      "outputs": [
        {
          "output_type": "stream",
          "text": [
            "Hola soy pepe y tengo que estudiar : física  por 12 horas\n"
          ],
          "name": "stdout"
        }
      ]
    },
    {
      "cell_type": "markdown",
      "metadata": {
        "id": "e2tEto3hjIOq"
      },
      "source": [
        "3.\tCree una clase Nutricionista   donde tendrá los atributos de edad, nombre, universidad en la que se egresó. Tendrá una función que dado el peso y la altura de un paciente calcule el IMC."
      ]
    },
    {
      "cell_type": "code",
      "metadata": {
        "id": "48BE5NptjIxB",
        "outputId": "d10533e0-c814-4301-a505-31bb9a7b091f",
        "colab": {
          "base_uri": "https://localhost:8080/",
          "height": 34
        }
      },
      "source": [
        "class Nutricionista():\n",
        "    #Creación\n",
        "    def __init__ (self, nombreIn, edadIn,idIn, universidadIn):\n",
        "        self.nombre = nombreIn\n",
        "        self.edad = edadIn\n",
        "        self.id = idIn\n",
        "        self.universidad = universidadIn\n",
        "    #Acciones\n",
        "    #calcular imc\n",
        "    def calcular_imc(self, peso,estatura) :\n",
        "        return peso/estatura**2\n",
        "\n",
        "aleja = Nutricionista('Aleja', 27,13024789,'CES')\n",
        "aleja.calcular_imc(80,1.67)"
      ],
      "execution_count": 9,
      "outputs": [
        {
          "output_type": "execute_result",
          "data": {
            "text/plain": [
              "28.685144680698485"
            ]
          },
          "metadata": {
            "tags": []
          },
          "execution_count": 9
        }
      ]
    },
    {
      "cell_type": "markdown",
      "metadata": {
        "id": "MFZRZGCSHpV7"
      },
      "source": [
        "4.\tCree una clase Canguro que tenga los atributos edad, id, nombre. Cree una función que, dada una cantidad de saltos, muestre en pantalla uno a uno los saltos del canguro. Ejemplo  : canguro.saltos (5) --> retorna lo siguiente :\n",
        "\n",
        "El canguro ha dado 1 salto\n",
        "\n",
        "El canguro ha dado 2 salto\n",
        "\n",
        "El canguro ha dado 3 salto\n",
        "\n",
        "El canguro ha dado 4 salto\n",
        "\n",
        "El canguro ha dado 5 salto\n"
      ]
    },
    {
      "cell_type": "code",
      "metadata": {
        "id": "qi-jHvYtHhRa",
        "outputId": "f6737a80-1ea8-41c4-82c2-9e08deb66289",
        "colab": {
          "base_uri": "https://localhost:8080/",
          "height": 428
        }
      },
      "source": [
        "class Canguro():\n",
        "    #Creación\n",
        "    def __init__ (self, nombreIn, edadIn,idIn):\n",
        "        self.nombre = nombreIn\n",
        "        self.edad = edadIn\n",
        "        self.id = idIn\n",
        "    #Acciones\n",
        "    #saltar\n",
        "    def saltar (self, saltos) :\n",
        "      for i in range(saltos):\n",
        "        print (f'El canguro {self.nombre} ha dado  {i+1}  saltos')\n",
        "\n",
        "jack = Canguro('Jack', 12, 134098)\n",
        "jack.saltar(24)"
      ],
      "execution_count": 11,
      "outputs": [
        {
          "output_type": "stream",
          "text": [
            "El canguro Jack ha dado  1  saltos\n",
            "El canguro Jack ha dado  2  saltos\n",
            "El canguro Jack ha dado  3  saltos\n",
            "El canguro Jack ha dado  4  saltos\n",
            "El canguro Jack ha dado  5  saltos\n",
            "El canguro Jack ha dado  6  saltos\n",
            "El canguro Jack ha dado  7  saltos\n",
            "El canguro Jack ha dado  8  saltos\n",
            "El canguro Jack ha dado  9  saltos\n",
            "El canguro Jack ha dado  10  saltos\n",
            "El canguro Jack ha dado  11  saltos\n",
            "El canguro Jack ha dado  12  saltos\n",
            "El canguro Jack ha dado  13  saltos\n",
            "El canguro Jack ha dado  14  saltos\n",
            "El canguro Jack ha dado  15  saltos\n",
            "El canguro Jack ha dado  16  saltos\n",
            "El canguro Jack ha dado  17  saltos\n",
            "El canguro Jack ha dado  18  saltos\n",
            "El canguro Jack ha dado  19  saltos\n",
            "El canguro Jack ha dado  20  saltos\n",
            "El canguro Jack ha dado  21  saltos\n",
            "El canguro Jack ha dado  22  saltos\n",
            "El canguro Jack ha dado  23  saltos\n",
            "El canguro Jack ha dado  24  saltos\n"
          ],
          "name": "stdout"
        }
      ]
    },
    {
      "cell_type": "markdown",
      "metadata": {
        "id": "Awy5sBUbH9s7"
      },
      "source": [
        "5.\tPiense en su instrumento musical favorito y cree una clase asociada al mismo, defina los atributos y cree una función que permita dada una canción interpretarla en el mismo (solo se muestra mensaje en pantalla)"
      ]
    },
    {
      "cell_type": "code",
      "metadata": {
        "id": "qwlNpDCrInpP",
        "outputId": "4e75e59d-90e7-4075-9ed8-336c1c522be0",
        "colab": {
          "base_uri": "https://localhost:8080/",
          "height": 34
        }
      },
      "source": [
        "class Piano():\n",
        "  def __init__ (self, tipoIn, marcaIn, octavasIn):\n",
        "    self.tipo = tipoIn\n",
        "    self.marca = marcaIn\n",
        "    self.octavas = octavasIn\n",
        "  def interpetar (self, cancion):\n",
        "    print (f'interpretando en piano {cancion}')\n",
        "\n",
        "pik = Piano ('cola', 'casio',8)\n",
        "pik.interpetar('fantasia in promptu')"
      ],
      "execution_count": 14,
      "outputs": [
        {
          "output_type": "stream",
          "text": [
            "interpretando en piano fantasia in promptu\n"
          ],
          "name": "stdout"
        }
      ]
    }
  ]
}